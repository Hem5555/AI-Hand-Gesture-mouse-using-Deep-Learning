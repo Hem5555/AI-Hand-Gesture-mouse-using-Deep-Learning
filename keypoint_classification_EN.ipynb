{
 "cells": [
  {
   "cell_type": "code",
   "execution_count": 1,
   "metadata": {
    "id": "igMyGnjE9hEp"
   },
   "outputs": [],
   "source": [
    "import csv\n",
    "\n",
    "import numpy as np\n",
    "import tensorflow as tf\n",
    "from sklearn.model_selection import train_test_split\n",
    "\n",
    "RANDOM_SEED = 42"
   ]
  },
  {
   "cell_type": "markdown",
   "metadata": {
    "id": "t2HDvhIu9hEr"
   },
   "source": [
    "# Specify each path"
   ]
  },
  {
   "cell_type": "code",
   "execution_count": 2,
   "metadata": {
    "id": "9NvZP2Zn9hEy"
   },
   "outputs": [],
   "source": [
    "dataset = 'model/keypoint_classifier/keypoint.csv'\n",
    "model_save_path = 'model/keypoint_classifier/keypoint_classifier.hdf5'\n",
    "tflite_save_path = 'model/keypoint_classifier/keypoint_classifier.tflite'"
   ]
  },
  {
   "cell_type": "markdown",
   "metadata": {
    "id": "s5oMH7x19hEz"
   },
   "source": [
    "# Set number of classes"
   ]
  },
  {
   "cell_type": "code",
   "execution_count": 3,
   "metadata": {
    "id": "du4kodXL9hEz"
   },
   "outputs": [],
   "source": [
    "NUM_CLASSES = 7"
   ]
  },
  {
   "cell_type": "markdown",
   "metadata": {
    "id": "XjnL0uso9hEz"
   },
   "source": [
    "# Dataset reading"
   ]
  },
  {
   "cell_type": "code",
   "execution_count": 4,
   "metadata": {
    "id": "QT5ZqtEz9hE0"
   },
   "outputs": [],
   "source": [
    "X_dataset = np.loadtxt(dataset, delimiter=',', dtype='float32', usecols=list(range(1, (21 * 2) + 1)))"
   ]
  },
  {
   "cell_type": "code",
   "execution_count": 5,
   "metadata": {
    "id": "QmoKFsp49hE0"
   },
   "outputs": [],
   "source": [
    "y_dataset = np.loadtxt(dataset, delimiter=',', dtype='int32', usecols=(0))"
   ]
  },
  {
   "cell_type": "code",
   "execution_count": 6,
   "metadata": {
    "id": "xQU7JTZ_9hE0"
   },
   "outputs": [],
   "source": [
    "X_train, X_test, y_train, y_test = train_test_split(X_dataset, y_dataset, train_size=0.75, random_state=RANDOM_SEED)"
   ]
  },
  {
   "cell_type": "markdown",
   "metadata": {
    "id": "mxK_lETT9hE0"
   },
   "source": [
    "# Model building"
   ]
  },
  {
   "cell_type": "code",
   "execution_count": 7,
   "metadata": {
    "id": "vHBmUf1t9hE1"
   },
   "outputs": [],
   "source": [
    "model = tf.keras.models.Sequential([\n",
    "    tf.keras.layers.Input((21 * 2, )),\n",
    "    tf.keras.layers.Dropout(0.2),\n",
    "    tf.keras.layers.Dense(20, activation='relu'),\n",
    "    tf.keras.layers.Dropout(0.4),\n",
    "    tf.keras.layers.Dense(10, activation='relu'),\n",
    "    tf.keras.layers.Dense(NUM_CLASSES, activation='softmax')\n",
    "])"
   ]
  },
  {
   "cell_type": "code",
   "execution_count": 8,
   "metadata": {
    "colab": {
     "base_uri": "https://localhost:8080/"
    },
    "id": "ypqky9tc9hE1",
    "outputId": "5db082bb-30e3-4110-bf63-a1ee777ecd46"
   },
   "outputs": [
    {
     "name": "stdout",
     "output_type": "stream",
     "text": [
      "Model: \"sequential\"\n",
      "_________________________________________________________________\n",
      "Layer (type)                 Output Shape              Param #   \n",
      "=================================================================\n",
      "dropout (Dropout)            (None, 42)                0         \n",
      "_________________________________________________________________\n",
      "dense (Dense)                (None, 20)                860       \n",
      "_________________________________________________________________\n",
      "dropout_1 (Dropout)          (None, 20)                0         \n",
      "_________________________________________________________________\n",
      "dense_1 (Dense)              (None, 10)                210       \n",
      "_________________________________________________________________\n",
      "dense_2 (Dense)              (None, 7)                 77        \n",
      "=================================================================\n",
      "Total params: 1,147\n",
      "Trainable params: 1,147\n",
      "Non-trainable params: 0\n",
      "_________________________________________________________________\n"
     ]
    }
   ],
   "source": [
    "model.summary()  # tf.keras.utils.plot_model(model, show_shapes=True)"
   ]
  },
  {
   "cell_type": "code",
   "execution_count": 9,
   "metadata": {
    "id": "MbMjOflQ9hE1"
   },
   "outputs": [],
   "source": [
    "# Model checkpoint callback\n",
    "cp_callback = tf.keras.callbacks.ModelCheckpoint(\n",
    "    model_save_path, verbose=1, save_weights_only=False)\n",
    "# Callback for early stopping\n",
    "es_callback = tf.keras.callbacks.EarlyStopping(patience=20, verbose=1)"
   ]
  },
  {
   "cell_type": "code",
   "execution_count": 10,
   "metadata": {
    "id": "c3Dac0M_9hE2"
   },
   "outputs": [],
   "source": [
    "# Model compilation\n",
    "model.compile(\n",
    "    optimizer='adam',\n",
    "    loss='sparse_categorical_crossentropy',\n",
    "    metrics=['accuracy']\n",
    ")"
   ]
  },
  {
   "cell_type": "markdown",
   "metadata": {
    "id": "7XI0j1Iu9hE2"
   },
   "source": [
    "# Model training"
   ]
  },
  {
   "cell_type": "code",
   "execution_count": 11,
   "metadata": {
    "colab": {
     "base_uri": "https://localhost:8080/"
    },
    "id": "WirBl-JE9hE3",
    "outputId": "71b30ca2-8294-4d9d-8aa2-800d90d399de",
    "scrolled": true
   },
   "outputs": [
    {
     "name": "stdout",
     "output_type": "stream",
     "text": [
      "Epoch 1/500\n",
      "2120/2120 [==============================] - 3s 1ms/step - loss: 1.4227 - accuracy: 0.4606 - val_loss: 0.4521 - val_accuracy: 0.8757\n",
      "\n",
      "Epoch 00001: saving model to model/keypoint_classifier\\keypoint_classifier.hdf5\n",
      "Epoch 2/500\n",
      "2120/2120 [==============================] - 2s 1ms/step - loss: 0.8110 - accuracy: 0.7153 - val_loss: 0.3426 - val_accuracy: 0.9169\n",
      "\n",
      "Epoch 00002: saving model to model/keypoint_classifier\\keypoint_classifier.hdf5\n",
      "Epoch 3/500\n",
      "2120/2120 [==============================] - 2s 1ms/step - loss: 0.6919 - accuracy: 0.7650 - val_loss: 0.3224 - val_accuracy: 0.9501\n",
      "\n",
      "Epoch 00003: saving model to model/keypoint_classifier\\keypoint_classifier.hdf5\n",
      "Epoch 4/500\n",
      "2120/2120 [==============================] - 2s 1ms/step - loss: 0.6398 - accuracy: 0.7876 - val_loss: 0.3587 - val_accuracy: 0.9398\n",
      "\n",
      "Epoch 00004: saving model to model/keypoint_classifier\\keypoint_classifier.hdf5\n",
      "Epoch 5/500\n",
      "2120/2120 [==============================] - 2s 1ms/step - loss: 0.5987 - accuracy: 0.8054 - val_loss: 0.3613 - val_accuracy: 0.9521\n",
      "\n",
      "Epoch 00005: saving model to model/keypoint_classifier\\keypoint_classifier.hdf5\n",
      "Epoch 6/500\n",
      "2120/2120 [==============================] - 2s 1ms/step - loss: 0.5610 - accuracy: 0.8209 - val_loss: 0.3950 - val_accuracy: 0.9345\n",
      "\n",
      "Epoch 00006: saving model to model/keypoint_classifier\\keypoint_classifier.hdf5\n",
      "Epoch 7/500\n",
      "2120/2120 [==============================] - 3s 1ms/step - loss: 0.5308 - accuracy: 0.8299 - val_loss: 0.3676 - val_accuracy: 0.9502\n",
      "\n",
      "Epoch 00007: saving model to model/keypoint_classifier\\keypoint_classifier.hdf5\n",
      "Epoch 8/500\n",
      "2120/2120 [==============================] - 2s 1ms/step - loss: 0.5017 - accuracy: 0.8414 - val_loss: 0.4095 - val_accuracy: 0.9258\n",
      "\n",
      "Epoch 00008: saving model to model/keypoint_classifier\\keypoint_classifier.hdf5\n",
      "Epoch 9/500\n",
      "2120/2120 [==============================] - 2s 1ms/step - loss: 0.4896 - accuracy: 0.8456 - val_loss: 0.3823 - val_accuracy: 0.9398\n",
      "\n",
      "Epoch 00009: saving model to model/keypoint_classifier\\keypoint_classifier.hdf5\n",
      "Epoch 10/500\n",
      "2120/2120 [==============================] - 2s 1ms/step - loss: 0.4806 - accuracy: 0.8500 - val_loss: 0.3931 - val_accuracy: 0.9158\n",
      "\n",
      "Epoch 00010: saving model to model/keypoint_classifier\\keypoint_classifier.hdf5\n",
      "Epoch 11/500\n",
      "2120/2120 [==============================] - 2s 1ms/step - loss: 0.4636 - accuracy: 0.8547 - val_loss: 0.4350 - val_accuracy: 0.9120\n",
      "\n",
      "Epoch 00011: saving model to model/keypoint_classifier\\keypoint_classifier.hdf5\n",
      "Epoch 12/500\n",
      "2120/2120 [==============================] - 2s 1ms/step - loss: 0.4626 - accuracy: 0.8559 - val_loss: 0.4404 - val_accuracy: 0.9089\n",
      "\n",
      "Epoch 00012: saving model to model/keypoint_classifier\\keypoint_classifier.hdf5\n",
      "Epoch 13/500\n",
      "2120/2120 [==============================] - 2s 1ms/step - loss: 0.4574 - accuracy: 0.8555 - val_loss: 0.4975 - val_accuracy: 0.8799\n",
      "\n",
      "Epoch 00013: saving model to model/keypoint_classifier\\keypoint_classifier.hdf5\n",
      "Epoch 14/500\n",
      "2120/2120 [==============================] - 2s 1ms/step - loss: 0.4441 - accuracy: 0.8610 - val_loss: 0.4550 - val_accuracy: 0.9163\n",
      "\n",
      "Epoch 00014: saving model to model/keypoint_classifier\\keypoint_classifier.hdf5\n",
      "Epoch 15/500\n",
      "2120/2120 [==============================] - 2s 1ms/step - loss: 0.4426 - accuracy: 0.8601 - val_loss: 0.4733 - val_accuracy: 0.8999\n",
      "\n",
      "Epoch 00015: saving model to model/keypoint_classifier\\keypoint_classifier.hdf5\n",
      "Epoch 16/500\n",
      "2120/2120 [==============================] - 2s 1ms/step - loss: 0.4347 - accuracy: 0.8624 - val_loss: 0.4767 - val_accuracy: 0.8999\n",
      "\n",
      "Epoch 00016: saving model to model/keypoint_classifier\\keypoint_classifier.hdf5\n",
      "Epoch 17/500\n",
      "2120/2120 [==============================] - 2s 1ms/step - loss: 0.4394 - accuracy: 0.8625 - val_loss: 0.5070 - val_accuracy: 0.8950\n",
      "\n",
      "Epoch 00017: saving model to model/keypoint_classifier\\keypoint_classifier.hdf5\n",
      "Epoch 18/500\n",
      "2120/2120 [==============================] - 2s 989us/step - loss: 0.4399 - accuracy: 0.8608 - val_loss: 0.4929 - val_accuracy: 0.8791\n",
      "\n",
      "Epoch 00018: saving model to model/keypoint_classifier\\keypoint_classifier.hdf5\n",
      "Epoch 19/500\n",
      "2120/2120 [==============================] - 2s 1ms/step - loss: 0.4307 - accuracy: 0.8629 - val_loss: 0.4689 - val_accuracy: 0.8885\n",
      "\n",
      "Epoch 00019: saving model to model/keypoint_classifier\\keypoint_classifier.hdf5\n",
      "Epoch 20/500\n",
      "2120/2120 [==============================] - 2s 1ms/step - loss: 0.4287 - accuracy: 0.8646 - val_loss: 0.5367 - val_accuracy: 0.8696\n",
      "\n",
      "Epoch 00020: saving model to model/keypoint_classifier\\keypoint_classifier.hdf5\n",
      "Epoch 21/500\n",
      "2120/2120 [==============================] - 2s 1ms/step - loss: 0.4219 - accuracy: 0.8667 - val_loss: 0.4723 - val_accuracy: 0.8982\n",
      "\n",
      "Epoch 00021: saving model to model/keypoint_classifier\\keypoint_classifier.hdf5\n",
      "Epoch 22/500\n",
      "2120/2120 [==============================] - 2s 1ms/step - loss: 0.4291 - accuracy: 0.8650 - val_loss: 0.4489 - val_accuracy: 0.9174\n",
      "\n",
      "Epoch 00022: saving model to model/keypoint_classifier\\keypoint_classifier.hdf5\n",
      "Epoch 23/500\n",
      "2120/2120 [==============================] - 2s 1ms/step - loss: 0.4157 - accuracy: 0.8691 - val_loss: 0.4794 - val_accuracy: 0.9008\n",
      "\n",
      "Epoch 00023: saving model to model/keypoint_classifier\\keypoint_classifier.hdf5\n",
      "Epoch 00023: early stopping\n"
     ]
    },
    {
     "data": {
      "text/plain": [
       "<tensorflow.python.keras.callbacks.History at 0x29e4f772c88>"
      ]
     },
     "execution_count": 11,
     "metadata": {},
     "output_type": "execute_result"
    }
   ],
   "source": [
    "model.fit(\n",
    "    X_train,\n",
    "    y_train,\n",
    "    epochs=500,\n",
    "    batch_size=64,\n",
    "    validation_data=(X_test, y_test),\n",
    "    callbacks=[cp_callback, es_callback]\n",
    ")"
   ]
  },
  {
   "cell_type": "code",
   "execution_count": 12,
   "metadata": {
    "colab": {
     "base_uri": "https://localhost:8080/"
    },
    "id": "pxvb2Y299hE3",
    "outputId": "59eb3185-2e37-4b9e-bc9d-ab1b8ac29b7f"
   },
   "outputs": [
    {
     "name": "stdout",
     "output_type": "stream",
     "text": [
      "354/354 [==============================] - 0s 683us/step - loss: 0.4794 - accuracy: 0.9008\n"
     ]
    }
   ],
   "source": [
    "# Model evaluation\n",
    "val_loss, val_acc = model.evaluate(X_test, y_test, batch_size=128)"
   ]
  },
  {
   "cell_type": "code",
   "execution_count": 13,
   "metadata": {
    "id": "RBkmDeUW9hE4"
   },
   "outputs": [],
   "source": [
    "# Loading the saved model\n",
    "model = tf.keras.models.load_model(model_save_path)"
   ]
  },
  {
   "cell_type": "code",
   "execution_count": 14,
   "metadata": {
    "colab": {
     "base_uri": "https://localhost:8080/"
    },
    "id": "tFz9Tb0I9hE4",
    "outputId": "1c3b3528-54ae-4ee2-ab04-77429211cbef"
   },
   "outputs": [
    {
     "name": "stdout",
     "output_type": "stream",
     "text": [
      "[0.00563407 0.00191136 0.8271951  0.00321012 0.04398975 0.01377287\n",
      " 0.10428674]\n",
      "2\n"
     ]
    }
   ],
   "source": [
    "# Inference test\n",
    "predict_result = model.predict(np.array([X_test[0]]))\n",
    "print(np.squeeze(predict_result))\n",
    "print(np.argmax(np.squeeze(predict_result)))"
   ]
  },
  {
   "cell_type": "markdown",
   "metadata": {
    "id": "S3U4yNWx9hE4"
   },
   "source": [
    "# Confusion matrix"
   ]
  },
  {
   "cell_type": "code",
   "execution_count": 15,
   "metadata": {
    "colab": {
     "base_uri": "https://localhost:8080/",
     "height": 582
    },
    "id": "AP1V6SCk9hE5",
    "outputId": "08e41a80-7a4a-4619-8125-ecc371368d19"
   },
   "outputs": [
    {
     "data": {
      "image/png": "[encoded data removed]",
      "text/plain": [
       "<Figure size 700x600 with 2 Axes>"
      ]
     },
     "metadata": {},
     "output_type": "display_data"
    },
    {
     "name": "stdout",
     "output_type": "stream",
     "text": [
      "Classification Report\n",
      "              precision    recall  f1-score   support\n",
      "\n",
      "           0       0.98      0.72      0.83      6465\n",
      "           1       0.85      0.87      0.86      5425\n",
      "           2       0.87      0.96      0.91     10135\n",
      "           3       0.84      0.95      0.89      8147\n",
      "           4       0.99      0.96      0.97      5425\n",
      "           5       0.99      0.92      0.95      4850\n",
      "           6       0.91      0.90      0.91      4760\n",
      "\n",
      "    accuracy                           0.90     45207\n",
      "   macro avg       0.92      0.90      0.90     45207\n",
      "weighted avg       0.91      0.90      0.90     45207\n",
      "\n"
     ]
    }
   ],
   "source": [
    "import pandas as pd\n",
    "import seaborn as sns\n",
    "import matplotlib.pyplot as plt\n",
    "from sklearn.metrics import confusion_matrix, classification_report\n",
    "\n",
    "def print_confusion_matrix(y_true, y_pred, report=True):\n",
    "    labels = sorted(list(set(y_true)))\n",
    "    cmx_data = confusion_matrix(y_true, y_pred, labels=labels)\n",
    "    \n",
    "    df_cmx = pd.DataFrame(cmx_data, index=labels, columns=labels)\n",
    " \n",
    "    fig, ax = plt.subplots(figsize=(7, 6))\n",
    "    sns.heatmap(df_cmx, annot=True, fmt='g' ,square=False)\n",
    "    ax.set_ylim(len(set(y_true)), 0)\n",
    "    plt.show()\n",
    "    \n",
    "    if report:\n",
    "        print('Classification Report')\n",
    "        print(classification_report(y_test, y_pred))\n",
    "\n",
    "Y_pred = model.predict(X_test)\n",
    "y_pred = np.argmax(Y_pred, axis=1)\n",
    "\n",
    "print_confusion_matrix(y_test, y_pred)"
   ]
  },
  {
   "cell_type": "markdown",
   "metadata": {
    "id": "FNP6aqzc9hE5"
   },
   "source": [
    "# Convert to model for Tensorflow-Lite"
   ]
  },
  {
   "cell_type": "code",
   "execution_count": 16,
   "metadata": {
    "id": "ODjnYyld9hE6"
   },
   "outputs": [],
   "source": [
    "# Save as a model dedicated to inference\n",
    "model.save(model_save_path, include_optimizer=False)"
   ]
  },
  {
   "cell_type": "code",
   "execution_count": 17,
   "metadata": {
    "colab": {
     "base_uri": "https://localhost:8080/"
    },
    "id": "zRfuK8Y59hE6",
    "outputId": "a4ca585c-b5d5-4244-8291-8674063209bb"
   },
   "outputs": [
    {
     "name": "stdout",
     "output_type": "stream",
     "text": [
      "INFO:tensorflow:Assets written to: C:\\Users\\HEMGUR~1\\AppData\\Local\\Temp\\tmp7ul3p4on\\assets\n"
     ]
    },
    {
     "data": {
      "text/plain": [
       "6496"
      ]
     },
     "execution_count": 17,
     "metadata": {},
     "output_type": "execute_result"
    }
   ],
   "source": [
    "# Transform model (quantization)\n",
    "\n",
    "converter = tf.lite.TFLiteConverter.from_keras_model(model)\n",
    "converter.optimizations = [tf.lite.Optimize.DEFAULT]\n",
    "tflite_quantized_model = converter.convert()\n",
    "\n",
    "open(tflite_save_path, 'wb').write(tflite_quantized_model)"
   ]
  },
  {
   "cell_type": "markdown",
   "metadata": {
    "id": "CHBPBXdx9hE6"
   },
   "source": [
    "# Inference test"
   ]
  },
  {
   "cell_type": "code",
   "execution_count": 18,
   "metadata": {
    "id": "mGAzLocO9hE7"
   },
   "outputs": [],
   "source": [
    "interpreter = tf.lite.Interpreter(model_path=tflite_save_path)\n",
    "interpreter.allocate_tensors()"
   ]
  },
  {
   "cell_type": "code",
   "execution_count": 19,
   "metadata": {
    "id": "oQuDK8YS9hE7"
   },
   "outputs": [],
   "source": [
    "# Get I / O tensor\n",
    "input_details = interpreter.get_input_details()\n",
    "output_details = interpreter.get_output_details()"
   ]
  },
  {
   "cell_type": "code",
   "execution_count": 20,
   "metadata": {
    "id": "2_ixAf_l9hE7"
   },
   "outputs": [],
   "source": [
    "interpreter.set_tensor(input_details[0]['index'], np.array([X_test[0]]))"
   ]
  },
  {
   "cell_type": "code",
   "execution_count": 21,
   "metadata": {
    "colab": {
     "base_uri": "https://localhost:8080/"
    },
    "id": "s4FoAnuc9hE7",
    "outputId": "91f18257-8d8b-4ef3-c558-e9b5f94fabbf",
    "scrolled": true
   },
   "outputs": [
    {
     "name": "stdout",
     "output_type": "stream",
     "text": [
      "Wall time: 0 ns\n"
     ]
    }
   ],
   "source": [
    "%%time\n",
    "# Inference implementation\n",
    "interpreter.invoke()\n",
    "tflite_results = interpreter.get_tensor(output_details[0]['index'])"
   ]
  },
  {
   "cell_type": "code",
   "execution_count": 22,
   "metadata": {
    "colab": {
     "base_uri": "https://localhost:8080/"
    },
    "id": "vONjp19J9hE8",
    "outputId": "77205e24-fd00-42c4-f7b6-e06e527c2cba"
   },
   "outputs": [
    {
     "name": "stdout",
     "output_type": "stream",
     "text": [
      "[0.00563407 0.00191135 0.8271951  0.00321012 0.04398973 0.01377286\n",
      " 0.10428681]\n",
      "2\n"
     ]
    }
   ],
   "source": [
    "print(np.squeeze(tflite_results))\n",
    "print(np.argmax(np.squeeze(tflite_results)))"
   ]
  },
  {
   "cell_type": "code",
   "execution_count": null,
   "metadata": {},
   "outputs": [],
   "source": []
  },
  {
   "cell_type": "code",
   "execution_count": null,
   "metadata": {},
   "outputs": [],
   "source": []
  },
  {
   "cell_type": "code",
   "execution_count": null,
   "metadata": {},
   "outputs": [],
   "source": []
  }
 ],
 "metadata": {
  "accelerator": "GPU",
  "colab": {
   "collapsed_sections": [],
   "name": "keypoint_classification_EN.ipynb",
   "provenance": [],
   "toc_visible": true
  },
  "kernelspec": {
   "display_name": "Python 3 (ipykernel)",
   "language": "python",
   "name": "python3"
  },
  "language_info": {
   "codemirror_mode": {
    "name": "ipython",
    "version": 3
   },
   "file_extension": ".py",
   "mimetype": "text/x-python",
   "name": "python",
   "nbconvert_exporter": "python",
   "pygments_lexer": "ipython3",
   "version": "3.7.0"
  },
  "vscode": {
   "interpreter": {
    "hash": "fbc768028c3e6ead51d9a200ddcb2ec858ae62844dcd1994729a8279be9b48f2"
   }
  }
 },
 "nbformat": 4,
 "nbformat_minor": 1
}
